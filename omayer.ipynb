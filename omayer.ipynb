{
  "nbformat": 4,
  "nbformat_minor": 0,
  "metadata": {
    "colab": {
      "provenance": [],
      "authorship_tag": "ABX9TyOjjr2t3iMN38euHGaCtjPy",
      "include_colab_link": true
    },
    "kernelspec": {
      "name": "python3",
      "display_name": "Python 3"
    },
    "language_info": {
      "name": "python"
    }
  },
  "cells": [
    {
      "cell_type": "markdown",
      "metadata": {
        "id": "view-in-github",
        "colab_type": "text"
      },
      "source": [
        "<a href=\"https://colab.research.google.com/github/habib3449/Omayer/blob/main/omayer.ipynb\" target=\"_parent\"><img src=\"https://colab.research.google.com/assets/colab-badge.svg\" alt=\"Open In Colab\"/></a>"
      ]
    },
    {
      "cell_type": "code",
      "execution_count": null,
      "metadata": {
        "id": "aT04iIXb9aJf"
      },
      "outputs": [],
      "source": [
        "import arcpy\n",
        "import os\n",
        "\n",
        "arcpy.env.workspace = r\"C:\\GE\\data\\input\"\n",
        "arcpy.env.overwriteOutput = True\n",
        "\n",
        "shapefiles = [shp for shp in arcpy.ListFeatureClasses() if shp.endswith('.shp')]\n",
        "\n",
        "output_mxd = r\"C:\\GE\\map\\automated_map.mxd\"\n",
        "output_pdf = r\"C:\\GE\\Output_map\\islamicUniversity.pdf\"\n",
        "\n",
        "template_mxd = r\"C:\\GE\\data\\templates\\blank_map.mxd\"\n",
        "mxd = arcpy.mapping.MapDocument(template_mxd)\n",
        "df = arcpy.mapping.ListDataFrames(mxd, \"*\")[0]\n",
        "\n",
        "def add_layer(layer_path, data_frame):\n",
        "    try:\n",
        "        layer = arcpy.mapping.Layer(layer_path)\n",
        "        arcpy.mapping.AddLayer(data_frame, layer, \"TOP\")\n",
        "        print(\"Layer added: {}\".format(os.path.basename(layer_path)))\n",
        "    except Exception as e:\n",
        "        print(\"Failed to add layer {}: {}\".format(os.path.basename(layer_path), str(e)))\n",
        "\n",
        "def apply_labels(layer_name):\n",
        "    try:\n",
        "        layer = arcpy.mapping.ListLayers(mxd, layer_name, df)[0]\n",
        "        layer.showLabels = True\n",
        "        label_class = layer.labelClasses[0]\n",
        "        label_class.expression = \"[NAME]\"  # Change this based on your attribute field for labels\n",
        "        print(\"Labels applied to layer: {}\".format(layer.name))\n",
        "    except Exception as e:\n",
        "        print(\"Failed to apply labels for {}: {}\".format(layer_name, str(e)))\n",
        "\n",
        "for shp in shapefiles:\n",
        "    layer_path = os.path.join(arcpy.env.workspace, shp)\n",
        "    add_layer(layer_path, df)\n",
        "    apply_labels(os.path.basename(shp).replace(\".shp\", \"\"))  # Apply labels based on the layer name\n",
        "\n",
        "try:\n",
        "    arcpy.mapping.ExportToPDF(mxd, output_pdf)\n",
        "    print(\"Map exported to PDF: {}\".format(output_pdf))\n",
        "except Exception as e:\n",
        "    print(\"Failed to export map to PDF: {}\".format(str(e)))\n",
        "\n",
        "try:\n",
        "    mxd.saveACopy(output_mxd)\n",
        "    print(\"Map document saved: {}\".format(output_mxd))\n",
        "except Exception as e:\n",
        "    print(\"Failed to save map document: {}\".format(str(e)))\n",
        "\n",
        "del mxd"
      ]
    }
  ]
}